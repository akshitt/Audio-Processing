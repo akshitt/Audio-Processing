{
  "nbformat": 4,
  "nbformat_minor": 0,
  "metadata": {
    "colab": {
      "name": "Week 1.ipynb",
      "provenance": [],
      "authorship_tag": "ABX9TyP66sOuukabhTMyBXjXmz44",
      "include_colab_link": true
    },
    "kernelspec": {
      "name": "python3",
      "display_name": "Python 3"
    },
    "language_info": {
      "name": "python"
    }
  },
  "cells": [
    {
      "cell_type": "markdown",
      "metadata": {
        "id": "view-in-github",
        "colab_type": "text"
      },
      "source": [
        "<a href=\"https://colab.research.google.com/github/akshitt/Audio-Processing/blob/main/Coursera-ASP/Week_1_Notes.ipynb\" target=\"_parent\"><img src=\"https://colab.research.google.com/assets/colab-badge.svg\" alt=\"Open In Colab\"/></a>"
      ]
    },
    {
      "cell_type": "markdown",
      "metadata": {
        "id": "aRi_LltX3Gcg"
      },
      "source": [
        " # Introduction \n",
        "\n",
        "\n",
        "- Analog - Voltage level representing air pressure waveform of sound\n",
        "- DSP powerful and efficient than on Analog\n",
        "- Applications of Audio SP:\n",
        "    - Storage\n",
        "    - Data compression (wav to mp3)\n",
        "    - Transformation (3D effects, morphing, etc)\n",
        "    - Synthesis (additive, subtractive, etc)\n",
        "    - Description (Music Info Retrieval) : low/mid/high level\n",
        "\n",
        "- Course Outline:\n",
        "    - DFT\n",
        "    - Properties of FT, FFT\n",
        "    - STFT\n",
        "    - Sinusoidal Model\n",
        "    - Harmonic Model \n",
        "    - Sinusoidal + Residual Modeling\n",
        "    - Sound transformations\n",
        "    - Sound description\n"
      ]
    },
    {
      "cell_type": "code",
      "metadata": {
        "id": "Ke8DhA978Ipe",
        "colab": {
          "base_uri": "https://localhost:8080/"
        },
        "outputId": "ef7f6310-3c96-4904-8d92-450eb124185d"
      },
      "source": [
        "#load gdrive and dir\n",
        "from google.colab import drive\n",
        "drive.mount('/content/drive')\n",
        "\n",
        "dir = '/content/drive/My Drive/Summer Projects/Duke/Resources/Audio-Signal-Processing-Coursera'"
      ],
      "execution_count": 2,
      "outputs": [
        {
          "output_type": "stream",
          "text": [
            "Drive already mounted at /content/drive; to attempt to forcibly remount, call drive.mount(\"/content/drive\", force_remount=True).\n"
          ],
          "name": "stdout"
        }
      ]
    },
    {
      "cell_type": "code",
      "metadata": {
        "id": "s4wiojgcx3TS"
      },
      "source": [
        "#libraries\n",
        "from scipy.io import wavfile\n",
        "import numpy as np\n",
        "from matplotlib import pyplot as plt"
      ],
      "execution_count": 13,
      "outputs": []
    },
    {
      "cell_type": "code",
      "metadata": {
        "id": "JCRjoMQ9whjR"
      },
      "source": [
        "fs, x = wavfile.read(dir + '/sample-sounds/piano-b.wav')\n",
        "# plt.plot(x)"
      ],
      "execution_count": 30,
      "outputs": []
    },
    {
      "cell_type": "code",
      "metadata": {
        "colab": {
          "base_uri": "https://localhost:8080/",
          "height": 265
        },
        "id": "aB8AHGBVxgW1",
        "outputId": "cf5b66ab-6780-4279-c81a-3b45c93b32e5"
      },
      "source": [
        "t = np.arange(np.transpose(x)[1].size)/float(fs)\n",
        "plt.plot(t,x)\n",
        "plt.show()"
      ],
      "execution_count": 38,
      "outputs": [
        {
          "output_type": "display_data",
          "data": {
            "image/png": "[encoded data removed]",
            "text/plain": [
              "<Figure size 432x288 with 1 Axes>"
            ]
          },
          "metadata": {
            "tags": [],
            "needs_background": "light"
          }
        }
      ]
    },
    {
      "cell_type": "code",
      "metadata": {
        "id": "M7OJj-WvzM2n"
      },
      "source": [
        ""
      ],
      "execution_count": null,
      "outputs": []
    }
  ]
}